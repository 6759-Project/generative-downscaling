{
 "cells": [
  {
   "cell_type": "code",
   "execution_count": 1,
   "metadata": {},
   "outputs": [],
   "source": [
    "# Add submodule paths\n",
    "import sys\n",
    "sys.path += ['./normalizing_flows']"
   ]
  },
  {
   "cell_type": "code",
   "execution_count": 2,
   "metadata": {},
   "outputs": [],
   "source": [
    "import tensorflow as tf\n",
    "import matplotlib.pyplot as plt\n",
    "import numpy as np\n",
    "import utils.data as data_util\n",
    "import utils.nn_util as nn\n",
    "import xarray as xr\n",
    "from flows import Flow\n",
    "from flows.affine import Planar\n",
    "from flows.sylvester import TriangularSylvester\n",
    "from models.vae import GatedConvVAE"
   ]
  },
  {
   "cell_type": "code",
   "execution_count": 3,
   "metadata": {},
   "outputs": [],
   "source": [
    "from datasource import rasmussen, erai\n",
    "# era-interim\n",
    "erai_deg1 = xr.open_zarr(erai('daily-1deg'), consolidated=True)\n",
    "# 1-degree regridded rasmussen\n",
    "ras_deg1 = xr.open_zarr(rasmussen('daily-1deg'), consolidated=True)\n",
    "# 1/2-degree regridded rasmussen\n",
    "ras_deg12 = xr.open_zarr(rasmussen('daily-1-2deg'), consolidated=True)\n",
    "ras_deg14 = xr.open_zarr(rasmussen('daily-1-4deg'), consolidated=True)\n",
    "ras_deg18 = xr.open_zarr(rasmussen('daily-1-8deg'), consolidated=True)\n",
    "#ras_deg116 = xr.open_zarr(rasmussen('daily-1-16deg'), consolidated=True)\n",
    "# regions\n",
    "def southeast_us(dataset, scale_factor=1):\n",
    "    lats, lons = dataset.lat, dataset.lon\n",
    "    seus_lat_st = np.abs(lats - 25).argmin().values\n",
    "    seus_lat_en = seus_lat_st + 15*scale_factor\n",
    "    seus_lon_st = np.abs(lons - 260).argmin().values\n",
    "    seus_lon_en = seus_lon_st + 30*scale_factor\n",
    "    dataset_seus = dataset.isel(lat=slice(seus_lat_st, seus_lat_en),\n",
    "                                lon=slice(seus_lon_st, seus_lon_en))\n",
    "    return dataset_seus\n",
    "\n",
    "erai_deg1_seus = southeast_us(erai_deg1)\n",
    "ras_deg1_seus = southeast_us(ras_deg1)\n",
    "ras_deg12_seus = southeast_us(ras_deg12, scale_factor=2)\n",
    "ras_deg14_seus = southeast_us(ras_deg14, scale_factor=4)\n",
    "ras_deg18_seus = southeast_us(ras_deg18, scale_factor=8)"
   ]
  },
  {
   "cell_type": "code",
   "execution_count": 4,
   "metadata": {},
   "outputs": [],
   "source": [
    "split_fn = data_util.create_time_series_train_test_generator(n_splits=5)"
   ]
  },
  {
   "cell_type": "code",
   "execution_count": 5,
   "metadata": {},
   "outputs": [],
   "source": [
    "from utils.pipeline_v2 import Pipeline, fillnan, clip, remove_monthly_means\n",
    "preprocess_maxt = Pipeline('MAXT', fillnan(0), clip(0), remove_monthly_means())\n",
    "preprocess_hgt = Pipeline('HGT', fillnan(0), clip(0))"
   ]
  },
  {
   "cell_type": "code",
   "execution_count": 6,
   "metadata": {},
   "outputs": [],
   "source": [
    "ras_seus_maxt_12 = preprocess_maxt(ras_deg12_seus)\n",
    "folds = list(split_fn(ras_seus_maxt_12))"
   ]
  },
  {
   "cell_type": "code",
   "execution_count": 7,
   "metadata": {},
   "outputs": [],
   "source": [
    "n_layers = 4\n",
    "flow = Flow(n_layers, lambda i: TriangularSylvester(flip_z = i % 2 != 0))\n",
    "beta_update = lambda i, beta: 1.0E-3 / tf.exp(-i)"
   ]
  },
  {
   "cell_type": "code",
   "execution_count": 10,
   "metadata": {},
   "outputs": [],
   "source": [
    "def preprocess_vae(data, k=6, stride=3, n_epochs=1, batch_size=100):\n",
    "    data = data_util.extract_patches(data, k=k, stride=stride, scale=1)\n",
    "    batch = data.batch(batch_size)\n",
    "    return tf.data.Dataset.zip((batch, batch)).repeat(n_epochs)"
   ]
  },
  {
   "cell_type": "code",
   "execution_count": null,
   "metadata": {},
   "outputs": [],
   "source": [
    "k, stride = 12, 6\n",
    "sample_batch_size = 100\n",
    "load_batch_size = 1000\n",
    "n_epochs = 5\n",
    "for i, (train, test) in enumerate(folds):\n",
    "    print(f'Fold {i+1}/{len(folds)}')\n",
    "    N_train, N_test = train[0].Time.size, test[0].Time.size\n",
    "    print('{} training samples, {} test samples'.format(N_train, N_test))\n",
    "    batch_multiplier = data_util.calculate_n_subimages(train[0], k, stride)\n",
    "    train_steps = data_util.num_batches(N_train*batch_multiplier, sample_batch_size)\n",
    "    test_steps = data_util.num_batches(N_test, sample_batch_size)\n",
    "    train_ds = data_util.xr_to_tf_dataset(train, load_batch_size)\n",
    "    test_ds = data_util.xr_to_tf_dataset(test, load_batch_size)\n",
    "    train_ds = preprocess_vae(train_ds, k=k, stride=stride, n_epochs=n_epochs, batch_size=sample_batch_size)\n",
    "    test_ds = preprocess_vae(test_ds, k=k, stride=stride, n_epochs=n_epochs, batch_size=sample_batch_size)\n",
    "    vae = GatedConvVAE(k, k, flow, z_size=64, beta_update_fn=beta_update, output_activation='linear', loss='mse')\n",
    "    vae.fit(train_ds, epochs=n_epochs, steps_per_epoch=train_steps,\n",
    "            validation_data=test_ds, validation_steps=test_steps)"
   ]
  },
  {
   "cell_type": "code",
   "execution_count": null,
   "metadata": {},
   "outputs": [],
   "source": []
  }
 ],
 "metadata": {
  "kernelspec": {
   "display_name": "tensorflow",
   "language": "python",
   "name": "tensorflow"
  },
  "language_info": {
   "codemirror_mode": {
    "name": "ipython",
    "version": 3
   },
   "file_extension": ".py",
   "mimetype": "text/x-python",
   "name": "python",
   "nbconvert_exporter": "python",
   "pygments_lexer": "ipython3",
   "version": "3.6.7"
  }
 },
 "nbformat": 4,
 "nbformat_minor": 2
}
