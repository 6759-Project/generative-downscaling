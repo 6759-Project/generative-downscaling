{
 "cells": [
  {
   "cell_type": "code",
   "execution_count": 1,
   "metadata": {},
   "outputs": [],
   "source": [
    "# Add submodule paths\n",
    "import sys\n",
    "sys.path += ['./normalizing_flows', './baselines', './climdex']"
   ]
  },
  {
   "cell_type": "code",
   "execution_count": 2,
   "metadata": {},
   "outputs": [],
   "source": [
    "import tensorflow as tf\n",
    "import tensorflow_probability as tfp\n",
    "import matplotlib.pyplot as plt\n",
    "import numpy as np\n",
    "import utils.data as data_util\n",
    "import utils.nn_util as nn\n",
    "import xarray as xr\n",
    "import gcsfs\n",
    "import dscnn\n",
    "import climdex.temperature as tdex\n",
    "from normalizing_flows.models import VariationalModel, FlowLVM, JointFlowLVM, adversarial\n",
    "from normalizing_flows.models.variational import nll_loss\n",
    "from normalizing_flows.models.optimization import LinearWarmupSchedule\n",
    "from normalizing_flows.flows import Transform, Flow, Invert\n",
    "from normalizing_flows.flows.image import Upsample\n",
    "from normalizing_flows.flows.glow import GlowFlow, coupling_nn_glow\n",
    "from datasource import EraiRasDataLoader\n",
    "from utils.pipeline_v2 import Pipeline, fillnan, clip, remove_monthly_means\n",
    "from utils.distributions import normal\n",
    "from tensorflow.keras.optimizers import Adamax\n",
    "from tqdm import tqdm\n",
    "#tf.autograph.set_verbosity(1)\n",
    "#tf.config.experimental_run_functions_eagerly(True)\n",
    "#tf.debugging.set_log_device_placement(True)"
   ]
  },
  {
   "cell_type": "code",
   "execution_count": 3,
   "metadata": {},
   "outputs": [],
   "source": [
    "data = EraiRasDataLoader(gcs_bucket='erai-rasmussen', gcs_project='thesis-research-255223', auth='gcs.secret.json')\n",
    "# era-interim\n",
    "erai_deg1 = xr.open_zarr(data.erai('daily-1deg'), consolidated=True)\n",
    "# 1-degree regridded rasmussen\n",
    "ras_deg1 = xr.open_zarr(data.rasmussen('daily-1deg'), consolidated=True)\n",
    "# 1/2-degree regridded rasmussen\n",
    "ras_deg12 = xr.open_zarr(data.rasmussen('daily-1-2deg'), consolidated=True)\n",
    "ras_deg14 = xr.open_zarr(data.rasmussen('daily-1-4deg'), consolidated=True)\n",
    "ras_deg18 = xr.open_zarr(data.rasmussen('daily-1-8deg'), consolidated=True)\n",
    "#ras_deg116 = xr.open_zarr(rasmussen('daily-1-16deg'), consolidated=True)\n",
    "# regions\n",
    "def southeast_us(dataset, scale_factor=1):\n",
    "    lats, lons = dataset.lat, dataset.lon\n",
    "    seus_lat_st = np.abs(lats - 30).argmin().values\n",
    "    seus_lat_en = seus_lat_st + 8*scale_factor\n",
    "    seus_lon_st = np.abs(lons - 260).argmin().values\n",
    "    seus_lon_en = seus_lon_st + 16*scale_factor\n",
    "    dataset_seus = dataset.isel(lat=slice(seus_lat_st, seus_lat_en),\n",
    "                                lon=slice(seus_lon_st, seus_lon_en))\n",
    "    return dataset_seus\n",
    "\n",
    "erai_deg1_seus = southeast_us(erai_deg1)\n",
    "ras_deg1_seus = southeast_us(ras_deg1)\n",
    "ras_deg12_seus = southeast_us(ras_deg12, scale_factor=2)\n",
    "ras_deg14_seus = southeast_us(ras_deg14, scale_factor=4)\n",
    "ras_deg18_seus = southeast_us(ras_deg18, scale_factor=8)"
   ]
  },
  {
   "cell_type": "code",
   "execution_count": 4,
   "metadata": {},
   "outputs": [],
   "source": [
    "split_fn = data_util.create_time_series_train_test_generator(n_splits=3)\n",
    "preprocess_maxt = Pipeline('MAXT', fillnan(0), clip(0), remove_monthly_means())\n",
    "preprocess_hgt = Pipeline('HGT', fillnan(0), clip(0))\n",
    "ras_seus_maxt_14 = preprocess_maxt(ras_deg14_seus)\n",
    "ras_seus_maxt_1 = preprocess_maxt(ras_deg1_seus)\n",
    "folds = list(split_fn(ras_seus_maxt_1, ras_seus_maxt_14))"
   ]
  },
  {
   "cell_type": "code",
   "execution_count": 11,
   "metadata": {},
   "outputs": [],
   "source": [
    "def preprocess_vds(data_lo, data_hi, batch_size=100, buffer_size=1000, supervised=True):\n",
    "    if supervised:\n",
    "        data = tf.data.Dataset.zip((data_lo, data_hi)).shuffle(buffer_size)\n",
    "    else:\n",
    "        data = tf.data.Dataset.zip((data_lo.shuffle(buffer_size), data_hi.shuffle(buffer_size)))\n",
    "    return data.batch(batch_size)"
   ]
  },
  {
   "cell_type": "code",
   "execution_count": null,
   "metadata": {},
   "outputs": [],
   "source": [
    "def plot_1xn(data):\n",
    "    n = len(data)\n",
    "    plt.figure(figsize=(n*9,6))\n",
    "    for i in range(n):\n",
    "        plt.subplot(1,n,i+1)\n",
    "        plt.imshow(data[i].numpy().squeeze(), origin='lower')\n",
    "        plt.colorbar(pad=0.04, shrink=0.5)\n",
    "    plt.show()"
   ]
  },
  {
   "cell_type": "code",
   "execution_count": 12,
   "metadata": {},
   "outputs": [],
   "source": [
    "indices = tdex.indices('Time')\n",
    "def eval_climdex(true, pred, coords):\n",
    "    true_arr = xr.DataArray(true, coords=coords)\n",
    "    pred_arr = xr.DataArray(pred, coords=coords)\n",
    "    txx_true = indices.monthly_txx(true_arr)\n",
    "    txx_pred = indices.monthly_txx(pred_arr)\n",
    "    txn_true = indices.monthly_txn(true_arr)\n",
    "    txn_pred = indices.monthly_txn(pred_arr)\n",
    "    txx_bias = txx_pred - txx_true\n",
    "    txn_bias = txn_pred - txn_true\n",
    "    return txx_bias, txn_bias"
   ]
  },
  {
   "cell_type": "markdown",
   "metadata": {},
   "source": [
    "### Baseline: Vanilla inference network for downscaling\n",
    "\n",
    "$f: X \\rightarrow \\Theta$, $\\hat{y} \\sim p(\\Theta)$"
   ]
  },
  {
   "cell_type": "code",
   "execution_count": null,
   "metadata": {},
   "outputs": [],
   "source": [
    "sample_batch_size = 10\n",
    "load_batch_size = 1200\n",
    "n_epochs = 5\n",
    "def rmse(y_true, y_pred):\n",
    "    return tf.math.sqrt(tf.math.reduce_mean((y_true - y_pred)**2, axis=[1,2,3]))\n",
    "def bias(y_true, y_pred):\n",
    "    return tf.math.reduce_mean(y_pred - y_true, axis=[1,2,3])\n",
    "for i, ((train_lo, train_hi), (test_lo, test_hi)) in enumerate(folds):\n",
    "    print(f'Fold {i+1}/{len(folds)}')\n",
    "    N_train, N_test = train_lo.Time.size, train_lo.Time.size\n",
    "    (wt, ht), (wt_hi, ht_hi) = train_lo.shape[1:3], train_hi.shape[1:3]\n",
    "    print('{} training samples, {} test samples, {}x{} -> {}x{}'.format(N_train, N_test, wt, ht, wt_hi, ht_hi))\n",
    "    #batch_multiplier = data_util.calculate_n_subimages(train_lo, k, stride)\n",
    "    train_steps = data_util.num_batches(N_train, sample_batch_size)\n",
    "    test_steps = data_util.num_batches(N_test, sample_batch_size)\n",
    "    train_lo_ds = data_util.xr_to_tf_dataset(train_lo, load_batch_size)\n",
    "    test_lo_ds = data_util.xr_to_tf_dataset(test_lo, load_batch_size)\n",
    "    train_hi_ds = data_util.xr_to_tf_dataset(train_hi, load_batch_size)\n",
    "    test_hi_ds = data_util.xr_to_tf_dataset(test_hi, load_batch_size)\n",
    "    train_ds = preprocess_vds(train_lo_ds, train_hi_ds, batch_size=sample_batch_size)\n",
    "    test_ds = preprocess_vds(test_lo_ds, test_hi_ds, batch_size=sample_batch_size)\n",
    "    #vdsrcnn = dscnn.create_vdsrcnn(scale=wt_hi // wt, c_in=1, c_out=2, module_layers=2, n_layers=5, output_init='zeros')\n",
    "    model = dscnn.create_bmg_cnn10(wt, ht, scale=wt_hi // wt, c_out=2)\n",
    "    model = VariationalModel(normal(), inputs=vdsrcnn.inputs, outputs=vdsrcnn.outputs)\n",
    "    model.compile(optimizer=Adamax(lr=1.0E-3), metrics=[rmse, bias])\n",
    "    model.fit(train_ds.repeat(n_epochs), epochs=n_epochs, steps_per_epoch=train_steps,\n",
    "              validation_data=test_ds.repeat(n_epochs), validation_steps=test_steps)\n",
    "    test_x, test_y = next(test_ds.__iter__())\n",
    "    pred = model.predict_mean(test_x)\n",
    "    sample = model.sample(test_x, sample_fn=lambda d: d.distribution.loc + d.distribution.scale*tf.random.normal((sample_batch_size,1,1,1)))\n",
    "    plt.figure(figsize=(4*9,6))\n",
    "    plt.subplot(1,4,1)\n",
    "    plt.imshow(test_x.numpy()[0].squeeze(), origin='lower')\n",
    "    plt.colorbar(pad=0.04, shrink=0.5)\n",
    "    plt.subplot(1,4,2)\n",
    "    plt.imshow(test_y.numpy()[0].squeeze(), origin='lower')\n",
    "    plt.colorbar(pad=0.04, shrink=0.5)\n",
    "    plt.subplot(1,4,3)\n",
    "    plt.imshow(pred[0].numpy().squeeze(), origin='lower')\n",
    "    plt.colorbar(pad=0.04, shrink=0.5)\n",
    "    plt.subplot(1,4,4)\n",
    "    plt.imshow(sample[0].numpy().squeeze(), origin='lower')\n",
    "    plt.colorbar(pad=0.04, shrink=0.5)\n",
    "    plt.show()"
   ]
  },
  {
   "cell_type": "code",
   "execution_count": null,
   "metadata": {},
   "outputs": [],
   "source": []
  }
 ],
 "metadata": {
  "kernelspec": {
   "display_name": "Python 3",
   "language": "python",
   "name": "python3"
  },
  "language_info": {
   "codemirror_mode": {
    "name": "ipython",
    "version": 3
   },
   "file_extension": ".py",
   "mimetype": "text/x-python",
   "name": "python",
   "nbconvert_exporter": "python",
   "pygments_lexer": "ipython3",
   "version": "3.7.3"
  }
 },
 "nbformat": 4,
 "nbformat_minor": 4
}
