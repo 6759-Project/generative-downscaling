{
 "cells": [
  {
   "cell_type": "code",
   "execution_count": 1,
   "metadata": {},
   "outputs": [],
   "source": [
    "# Add submodule paths\n",
    "import sys\n",
    "sys.path += ['./normalizing_flows', './baselines']"
   ]
  },
  {
   "cell_type": "code",
   "execution_count": 2,
   "metadata": {},
   "outputs": [],
   "source": [
    "import tensorflow as tf\n",
    "import tensorflow_probability as tfp\n",
    "import matplotlib.pyplot as plt\n",
    "import numpy as np\n",
    "import utils.data as data_util\n",
    "import utils.nn_util as nn\n",
    "import xarray as xr\n",
    "import gcsfs\n",
    "import dscnn\n",
    "from normalizing_flows.models.variational import parameterize, nll_loss\n",
    "from normalizing_flows.models.glow import Glow\n",
    "from normalizing_flows.flows.glow import coupling_nn_glow\n",
    "from datasource import EraiRasDataLoader\n",
    "from utils.pipeline_v2 import Pipeline, fillnan, clip, remove_monthly_means\n",
    "from utils.distributions import normal\n",
    "from tensorflow.keras.optimizers import Adamax"
   ]
  },
  {
   "cell_type": "code",
   "execution_count": 3,
   "metadata": {},
   "outputs": [],
   "source": [
    "data = EraiRasDataLoader(gcs_bucket='erai-rasmussen', gcs_project='thesis-research-255223', auth='gcs.secret.json')\n",
    "# era-interim\n",
    "erai_deg1 = xr.open_zarr(data.erai('daily-1deg'), consolidated=True)\n",
    "# 1-degree regridded rasmussen\n",
    "ras_deg1 = xr.open_zarr(data.rasmussen('daily-1deg'), consolidated=True)\n",
    "# 1/2-degree regridded rasmussen\n",
    "ras_deg12 = xr.open_zarr(data.rasmussen('daily-1-2deg'), consolidated=True)\n",
    "ras_deg14 = xr.open_zarr(data.rasmussen('daily-1-4deg'), consolidated=True)\n",
    "ras_deg18 = xr.open_zarr(data.rasmussen('daily-1-8deg'), consolidated=True)\n",
    "#ras_deg116 = xr.open_zarr(rasmussen('daily-1-16deg'), consolidated=True)\n",
    "# regions\n",
    "def southeast_us(dataset, scale_factor=1):\n",
    "    lats, lons = dataset.lat, dataset.lon\n",
    "    seus_lat_st = np.abs(lats - 25).argmin().values\n",
    "    seus_lat_en = seus_lat_st + 15*scale_factor\n",
    "    seus_lon_st = np.abs(lons - 260).argmin().values\n",
    "    seus_lon_en = seus_lon_st + 30*scale_factor\n",
    "    dataset_seus = dataset.isel(lat=slice(seus_lat_st, seus_lat_en),\n",
    "                                lon=slice(seus_lon_st, seus_lon_en))\n",
    "    return dataset_seus\n",
    "\n",
    "erai_deg1_seus = southeast_us(erai_deg1)\n",
    "ras_deg1_seus = southeast_us(ras_deg1)\n",
    "ras_deg12_seus = southeast_us(ras_deg12, scale_factor=2)\n",
    "ras_deg14_seus = southeast_us(ras_deg14, scale_factor=4)\n",
    "ras_deg18_seus = southeast_us(ras_deg18, scale_factor=8)"
   ]
  },
  {
   "cell_type": "code",
   "execution_count": 4,
   "metadata": {},
   "outputs": [],
   "source": [
    "split_fn = data_util.create_time_series_train_test_generator(n_splits=3)\n",
    "preprocess_maxt = Pipeline('MAXT', fillnan(0), clip(0), remove_monthly_means())\n",
    "preprocess_hgt = Pipeline('HGT', fillnan(0), clip(0))\n",
    "ras_seus_maxt_12 = preprocess_maxt(ras_deg12_seus)\n",
    "ras_seus_maxt_1 = preprocess_maxt(ras_deg1_seus)\n",
    "folds = list(split_fn(ras_seus_maxt_1, ras_seus_maxt_12))"
   ]
  },
  {
   "cell_type": "code",
   "execution_count": 5,
   "metadata": {},
   "outputs": [],
   "source": [
    "def preprocess_vds(data_lo, data_hi, scale=2, n_epochs=1, batch_size=100):\n",
    "    data = tf.data.Dataset.zip((data_lo, data_hi))\n",
    "    batch = data.batch(batch_size)\n",
    "    return batch.repeat(n_epochs)"
   ]
  },
  {
   "cell_type": "code",
   "execution_count": null,
   "metadata": {},
   "outputs": [],
   "source": [
    "sample_batch_size = 10\n",
    "load_batch_size = 1200\n",
    "n_epochs = 20\n",
    "for i, ((train_lo, train_hi), (test_lo, test_hi)) in enumerate(folds):\n",
    "    print(f'Fold {i+1}/{len(folds)}')\n",
    "    N_train, N_test = train_lo.Time.size, train_lo.Time.size\n",
    "    wt, ht = train_lo.shape[1], train_lo.shape[2]\n",
    "    print('{} training samples, {} test samples, {}x{}'.format(N_train, N_test, wt, ht))\n",
    "    #batch_multiplier = data_util.calculate_n_subimages(train_lo, k, stride)\n",
    "    train_steps = data_util.num_batches(N_train, sample_batch_size)\n",
    "    test_steps = data_util.num_batches(N_test, sample_batch_size)\n",
    "    train_lo_ds = data_util.xr_to_tf_dataset(train_lo, load_batch_size)\n",
    "    test_lo_ds = data_util.xr_to_tf_dataset(test_lo, load_batch_size)\n",
    "    train_hi_ds = data_util.xr_to_tf_dataset(train_hi, load_batch_size)\n",
    "    test_hi_ds = data_util.xr_to_tf_dataset(test_hi, load_batch_size)\n",
    "    train_ds = preprocess_vds(train_lo_ds, train_hi_ds, n_epochs=n_epochs, batch_size=sample_batch_size)\n",
    "    test_ds = preprocess_vds(test_lo_ds, test_hi_ds, n_epochs=n_epochs, batch_size=sample_batch_size)\n",
    "    #vdsrcnn = dscnn.create_vdsrcnn(scale=2, c_in=1, c_out=2, output_init='zeros')\n",
    "    normal_fn = normal()\n",
    "    vdsrcnn = dscnn.create_bmg_cnn10(wt, ht, c_out=2)\n",
    "    vdsrcnn = parameterize(vdsrcnn, normal_fn)\n",
    "    vdsrcnn.compile(loss=nll_loss(normal_fn), optimizer=Adamax(lr=1.0E-3))\n",
    "    vdsrcnn.fit(train_ds, epochs=n_epochs, steps_per_epoch=train_steps,\n",
    "                validation_data=test_ds, validation_steps=test_steps)\n",
    "    pred = vdsrcnn.predict_mean(test_lo_ds.batch(1))\n",
    "    sample = vdsrcnn.sample(test_lo_ds.batch(1))\n",
    "    plt.figure(figsize=(4*8,6))\n",
    "    plt.subplot(1,4,1)\n",
    "    plt.imshow(next(test_ds.__iter__())[0].numpy()[0].squeeze())\n",
    "    plt.subplot(1,4,2)\n",
    "    plt.imshow(next(test_ds.__iter__())[1].numpy()[0].squeeze())\n",
    "    plt.subplot(1,4,3)\n",
    "    plt.imshow(pred[0].numpy().squeeze())\n",
    "    plt.subplot(1,4,4)\n",
    "    plt.imshow(sample[0].numpy().squeeze())\n",
    "    plt.show()"
   ]
  },
  {
   "cell_type": "code",
   "execution_count": null,
   "metadata": {},
   "outputs": [
    {
     "name": "stdout",
     "output_type": "stream",
     "text": [
      "Fold 1/3\n",
      "1200 training samples, 1200 test samples, 15x30\n"
     ]
    },
    {
     "name": "stderr",
     "output_type": "stream",
     "text": [
      " 50%|█████     | 1200/2400 [04:58<03:58,  5.03it/s, epoch=11, loss=445, nll=445, prior=2.88, ildj=852]            "
     ]
    }
   ],
   "source": [
    "sample_batch_size = 10\n",
    "load_batch_size = 1200\n",
    "n_epochs = 20\n",
    "for i, ((train_lo, train_hi), (test_lo, test_hi)) in enumerate(folds):\n",
    "    print(f'Fold {i+1}/{len(folds)}')\n",
    "    N_train, N_test = train_lo.Time.size, train_lo.Time.size\n",
    "    (wt, ht), (wt_hi, ht_hi) = train_lo.shape[1:3], train_hi.shape[1:3]\n",
    "    print('{} training samples, {} test samples, {}x{} -> {}x{}'.format(N_train, N_test, wt, ht))\n",
    "    #batch_multiplier = data_util.calculate_n_subimages(train_lo, k, stride)\n",
    "    train_steps = data_util.num_batches(N_train, sample_batch_size)\n",
    "    test_steps = data_util.num_batches(N_test, sample_batch_size)\n",
    "    train_lo_ds = data_util.xr_to_tf_dataset(train_lo, load_batch_size)\n",
    "    test_lo_ds = data_util.xr_to_tf_dataset(test_lo, load_batch_size)\n",
    "    train_hi_ds = data_util.xr_to_tf_dataset(train_hi, load_batch_size)\n",
    "    test_hi_ds = data_util.xr_to_tf_dataset(test_hi, load_batch_size)\n",
    "    train_ds = preprocess_vds(train_lo_ds, train_hi_ds, n_epochs=n_epochs, batch_size=sample_batch_size)\n",
    "    test_ds = preprocess_vds(test_lo_ds, test_hi_ds, n_epochs=n_epochs, batch_size=sample_batch_size)\n",
    "    #vdsrcnn = dscnn.create_vdsrcnn(scale=2, c_in=1, c_out=2, output_init='zeros')\n",
    "    vdsrcnn = dscnn.create_bmg_cnn10(wt, ht, c_out=2)\n",
    "    glow = Glow(vdsrcnn, normal(), num_layers=2, depth_per_layer=4,\n",
    "                coupling_nn_ctor=coupling_nn_glow(hidden_dims=64))\n",
    "    glow.train(train_ds, steps_per_epoch=N_train // sample_batch_size, num_epochs=n_epochs, has_y=True)\n",
    "    pred = glow.predict_mean(next(test_lo_ds.batch(1).__iter__()))\n",
    "    sample = glow.sample(next(test_lo_ds.batch(1).__iter__()))\n",
    "    plt.figure(figsize=(4*8,6))\n",
    "    plt.subplot(1,4,1)\n",
    "    plt.imshow(next(test_ds.__iter__())[0].numpy()[0].squeeze())\n",
    "    plt.subplot(1,4,2)\n",
    "    plt.imshow(next(test_ds.__iter__())[1].numpy()[0].squeeze())\n",
    "    plt.subplot(1,4,3)\n",
    "    plt.imshow(pred[0].numpy().squeeze())\n",
    "    plt.subplot(1,4,4)\n",
    "    plt.imshow(sample[0].numpy().squeeze())\n",
    "    plt.show()"
   ]
  },
  {
   "cell_type": "code",
   "execution_count": null,
   "metadata": {},
   "outputs": [],
   "source": []
  }
 ],
 "metadata": {
  "kernelspec": {
   "display_name": "Python 3",
   "language": "python",
   "name": "python3"
  },
  "language_info": {
   "codemirror_mode": {
    "name": "ipython",
    "version": 3
   },
   "file_extension": ".py",
   "mimetype": "text/x-python",
   "name": "python",
   "nbconvert_exporter": "python",
   "pygments_lexer": "ipython3",
   "version": "3.7.3"
  }
 },
 "nbformat": 4,
 "nbformat_minor": 4
}
