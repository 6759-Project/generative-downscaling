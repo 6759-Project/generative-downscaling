{
 "cells": [
  {
   "cell_type": "code",
   "execution_count": 1,
   "metadata": {},
   "outputs": [],
   "source": [
    "import mlflow\n",
    "from tqdm import tqdm"
   ]
  },
  {
   "cell_type": "markdown",
   "metadata": {},
   "source": [
    "#### Fix depth, vary $\\lambda$"
   ]
  },
  {
   "cell_type": "code",
   "execution_count": null,
   "metadata": {},
   "outputs": [],
   "source": [
    "layers = 5\n",
    "depth = 8\n",
    "lams = [1.0, 0.1, 0.01]\n",
    "# run experiment\n",
    "for lam in tqdm(lams):\n",
    "    mlflow.run('.', 'glow-jflvm-cv', experiment_name='glow-jflvm-4x-cv',\n",
    "               parameters={'scale': 4, 'layers': layers, 'depth': depth, 'lam': lam}, use_conda=False)"
   ]
  },
  {
   "cell_type": "markdown",
   "metadata": {},
   "source": [
    "#### Fix $\\lambda$, vary depth"
   ]
  },
  {
   "cell_type": "code",
   "execution_count": null,
   "metadata": {},
   "outputs": [
    {
     "name": "stderr",
     "output_type": "stream",
     "text": [
      "  0%|          | 0/3 [00:00<?, ?it/s]2020/03/02 08:44:46 INFO mlflow.projects: === Created directory /tmp/tmp0jcln0dr for downloading remote URIs passed to arguments of type 'path' ===\n",
      "2020/03/02 08:44:46 INFO mlflow.projects: === Running command 'python run_experiment.py glow-jflvm-cv ras/daily-1deg --scale 4 --layers 5 --depth 4 --min-filters 32 --max-filters 256 --lam 1.0 --alpha 0.0 --dnet-layers 3 --dnet-filters 64 --splits 3 --batch-size 10 --var MAXT --epochs 10 --validate-freq 5 --auth gcs.secret.json' in run with ID 'c15567d15bed4566a8195ed34055caeb' === \n"
     ]
    }
   ],
   "source": [
    "layers = 5\n",
    "lam = 1.0\n",
    "depths = [4,8,16]\n",
    "# run experiment\n",
    "for depth in tqdm(depths):\n",
    "    mlflow.run('.', 'glow-jflvm-cv', experiment_name='glow-jflvm-4x-cv',\n",
    "               parameters={'scale': 4, 'layers': layers, 'depth': depth, 'lam': lam, 'epochs': 10}, use_conda=False)"
   ]
  },
  {
   "cell_type": "code",
   "execution_count": null,
   "metadata": {},
   "outputs": [],
   "source": []
  }
 ],
 "metadata": {
  "kernelspec": {
   "display_name": "Python 3",
   "language": "python",
   "name": "python3"
  },
  "language_info": {
   "codemirror_mode": {
    "name": "ipython",
    "version": 3
   },
   "file_extension": ".py",
   "mimetype": "text/x-python",
   "name": "python",
   "nbconvert_exporter": "python",
   "pygments_lexer": "ipython3",
   "version": "3.7.3"
  }
 },
 "nbformat": 4,
 "nbformat_minor": 4
}
