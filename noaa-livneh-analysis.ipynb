{
 "cells": [
  {
   "cell_type": "code",
   "execution_count": 1,
   "metadata": {},
   "outputs": [],
   "source": [
    "# Add submodule paths\n",
    "import sys\n",
    "sys.path += ['./normalizing_flows', './baselines', './climdex']\n",
    "import matplotlib.pyplot as plt\n",
    "import numpy as np\n",
    "import utils.data as data_util\n",
    "import utils.nn_util as nn\n",
    "import xarray as xr\n",
    "import gcsfs\n",
    "import climdex.temperature as tdex\n",
    "import climdex.precipitation as pdex\n",
    "import logging\n",
    "import utils.metrics as metrics\n",
    "from regions import southeast_us, pacific_nw\n",
    "from datasource import NoaaLivnehDataLoader\n",
    "from utils.plot import image_map_factory, prcp_cmap\n",
    "from utils.preprocessing import remove_monthly_means\n",
    "from utils.distributions import normal\n",
    "from tqdm import tqdm\n",
    "\n",
    "gcs = gcsfs.GCSFileSystem(project='thesis-research-255223', token='gcs.secret.json')\n",
    "logging.basicConfig(stream=sys.stdout, level=logging.INFO)\n",
    "#tf.autograph.set_verbosity(1)\n",
    "#tf.config.experimental_run_functions_eagerly(True)\n",
    "#tf.debugging.set_log_device_placement(True)"
   ]
  },
  {
   "cell_type": "code",
   "execution_count": 2,
   "metadata": {},
   "outputs": [],
   "source": [
    "data = NoaaLivnehDataLoader(gcs_bucket='noaa-livneh', gcs_project='thesis-research-255223', auth='gcs.secret.json')\n",
    "# NOAA 20th century reanalysis\n",
    "noaa = xr.open_zarr(data.noaa20cr(), consolidated=True).clip(min=0.0, max=np.inf)\n",
    "livneh = xr.open_zarr(data.livneh(), consolidated=True).clip(min=0.0, max=np.inf)\n",
    "def get_train_test_splits(data_lo, data_hi, region_fn, scale):\n",
    "    data_lo = region_fn(data_lo)\n",
    "    data_hi = region_fn(data_hi, scale_factor=scale)\n",
    "    lr_train = data_lo.isel(Time=slice(0,data_lo.Time.size-2*365))\n",
    "    lr_test = data_lo.isel(Time=slice(data_lo.Time.size-2*365, data_lo.Time.size+1))\n",
    "    hr_train = data_hi.isel(Time=slice(0,data_lo.Time.size-2*365))\n",
    "    hr_test = data_hi.isel(Time=slice(data_lo.Time.size-2*365, data_lo.Time.size+1))\n",
    "    return lr_train, lr_test, hr_train, hr_test"
   ]
  },
  {
   "cell_type": "code",
   "execution_count": 3,
   "metadata": {},
   "outputs": [
    {
     "data": {
      "text/html": [
       "<pre>&lt;xarray.Dataset&gt;\n",
       "Dimensions:  (lat: 181, lon: 360, time: 12783)\n",
       "Coordinates:\n",
       "  * lat      (lat) float32 -90.0 -89.0 -88.0 -87.0 -86.0 ... 87.0 88.0 89.0 90.0\n",
       "  * lon      (lon) float32 0.0 1.0 2.0 3.0 4.0 ... 355.0 356.0 357.0 358.0 359.0\n",
       "  * time     (time) datetime64[ns] 1981-01-01 1981-01-02 ... 2015-12-31\n",
       "Data variables:\n",
       "    pr       (time, lat, lon) float64 dask.array&lt;chunksize=(1000, 60, 60), meta=np.ndarray&gt;\n",
       "    tasmax   (time, lat, lon) float32 dask.array&lt;chunksize=(1000, 60, 60), meta=np.ndarray&gt;</pre>"
      ],
      "text/plain": [
       "<xarray.Dataset>\n",
       "Dimensions:  (lat: 181, lon: 360, time: 12783)\n",
       "Coordinates:\n",
       "  * lat      (lat) float32 -90.0 -89.0 -88.0 -87.0 -86.0 ... 87.0 88.0 89.0 90.0\n",
       "  * lon      (lon) float32 0.0 1.0 2.0 3.0 4.0 ... 355.0 356.0 357.0 358.0 359.0\n",
       "  * time     (time) datetime64[ns] 1981-01-01 1981-01-02 ... 2015-12-31\n",
       "Data variables:\n",
       "    pr       (time, lat, lon) float64 dask.array<chunksize=(1000, 60, 60), meta=np.ndarray>\n",
       "    tasmax   (time, lat, lon) float32 dask.array<chunksize=(1000, 60, 60), meta=np.ndarray>"
      ]
     },
     "execution_count": 3,
     "metadata": {},
     "output_type": "execute_result"
    }
   ],
   "source": [
    "noaa"
   ]
  },
  {
   "cell_type": "code",
   "execution_count": 4,
   "metadata": {},
   "outputs": [
    {
     "data": {
      "text/html": [
       "<pre>&lt;xarray.Dataset&gt;\n",
       "Dimensions:  (lat: 614, lon: 928, time: 23376)\n",
       "Coordinates:\n",
       "  * lat      (lat) float64 14.66 14.72 14.78 14.84 ... 52.78 52.84 52.91 52.97\n",
       "  * lon      (lon) float64 -125.0 -124.9 -124.8 -124.8 ... -67.16 -67.09 -67.03\n",
       "  * time     (time) datetime64[ns] 1950-01-01 1950-01-02 ... 2013-12-31\n",
       "Data variables:\n",
       "    pr       (time, lat, lon) float32 dask.array&lt;chunksize=(487, 307, 232), meta=np.ndarray&gt;\n",
       "    tasmax   (time, lat, lon) float32 dask.array&lt;chunksize=(487, 307, 232), meta=np.ndarray&gt;</pre>"
      ],
      "text/plain": [
       "<xarray.Dataset>\n",
       "Dimensions:  (lat: 614, lon: 928, time: 23376)\n",
       "Coordinates:\n",
       "  * lat      (lat) float64 14.66 14.72 14.78 14.84 ... 52.78 52.84 52.91 52.97\n",
       "  * lon      (lon) float64 -125.0 -124.9 -124.8 -124.8 ... -67.16 -67.09 -67.03\n",
       "  * time     (time) datetime64[ns] 1950-01-01 1950-01-02 ... 2013-12-31\n",
       "Data variables:\n",
       "    pr       (time, lat, lon) float32 dask.array<chunksize=(487, 307, 232), meta=np.ndarray>\n",
       "    tasmax   (time, lat, lon) float32 dask.array<chunksize=(487, 307, 232), meta=np.ndarray>"
      ]
     },
     "execution_count": 4,
     "metadata": {},
     "output_type": "execute_result"
    }
   ],
   "source": [
    "livneh"
   ]
  },
  {
   "cell_type": "code",
   "execution_count": null,
   "metadata": {},
   "outputs": [],
   "source": []
  }
 ],
 "metadata": {
  "kernelspec": {
   "display_name": "Python 3",
   "language": "python",
   "name": "python3"
  },
  "language_info": {
   "codemirror_mode": {
    "name": "ipython",
    "version": 3
   },
   "file_extension": ".py",
   "mimetype": "text/x-python",
   "name": "python",
   "nbconvert_exporter": "python",
   "pygments_lexer": "ipython3",
   "version": "3.7.3"
  }
 },
 "nbformat": 4,
 "nbformat_minor": 4
}
